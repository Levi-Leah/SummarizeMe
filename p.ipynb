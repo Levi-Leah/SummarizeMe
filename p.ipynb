{
 "cells": [
  {
   "cell_type": "markdown",
   "metadata": {},
   "source": [
    "# Install dependencies"
   ]
  },
  {
   "cell_type": "code",
   "execution_count": 18,
   "metadata": {},
   "outputs": [
    {
     "name": "stdout",
     "output_type": "stream",
     "text": [
      "Defaulting to user installation because normal site-packages is not writeable\n",
      "Requirement already satisfied: transformers in /home/levi/.local/lib/python3.11/site-packages (4.35.1)\n",
      "Requirement already satisfied: filelock in /home/levi/.local/lib/python3.11/site-packages (from transformers) (3.13.1)\n",
      "Requirement already satisfied: huggingface-hub<1.0,>=0.16.4 in /home/levi/.local/lib/python3.11/site-packages (from transformers) (0.17.3)\n",
      "Requirement already satisfied: numpy>=1.17 in /usr/lib64/python3.11/site-packages (from transformers) (1.24.4)\n",
      "Requirement already satisfied: packaging>=20.0 in /usr/lib/python3.11/site-packages (from transformers) (23.0)\n",
      "Requirement already satisfied: pyyaml>=5.1 in /usr/lib64/python3.11/site-packages (from transformers) (6.0)\n",
      "Requirement already satisfied: regex!=2019.12.17 in /usr/lib64/python3.11/site-packages (from transformers) (2023.6.3)\n",
      "Requirement already satisfied: requests in /usr/lib/python3.11/site-packages (from transformers) (2.28.2)\n",
      "Requirement already satisfied: tokenizers<0.15,>=0.14 in /home/levi/.local/lib/python3.11/site-packages (from transformers) (0.14.1)\n",
      "Requirement already satisfied: safetensors>=0.3.1 in /home/levi/.local/lib/python3.11/site-packages (from transformers) (0.4.0)\n",
      "Requirement already satisfied: tqdm>=4.27 in /home/levi/.local/lib/python3.11/site-packages (from transformers) (4.66.1)\n",
      "Requirement already satisfied: fsspec in /home/levi/.local/lib/python3.11/site-packages (from huggingface-hub<1.0,>=0.16.4->transformers) (2023.10.0)\n",
      "Requirement already satisfied: typing-extensions>=3.7.4.3 in /home/levi/.local/lib/python3.11/site-packages (from huggingface-hub<1.0,>=0.16.4->transformers) (4.8.0)\n",
      "Requirement already satisfied: charset-normalizer<4,>=2 in /usr/lib/python3.11/site-packages (from requests->transformers) (3.1.0)\n",
      "Requirement already satisfied: idna<4,>=2.5 in /usr/lib/python3.11/site-packages (from requests->transformers) (3.4)\n",
      "Requirement already satisfied: urllib3<1.27,>=1.21.1 in /usr/lib/python3.11/site-packages (from requests->transformers) (1.26.17)\n"
     ]
    }
   ],
   "source": [
    "!pip install transformers"
   ]
  },
  {
   "cell_type": "markdown",
   "metadata": {},
   "source": [
    "# Imports"
   ]
  },
  {
   "cell_type": "code",
   "execution_count": 19,
   "metadata": {},
   "outputs": [],
   "source": [
    "import argparse"
   ]
  },
  {
   "cell_type": "code",
   "execution_count": 20,
   "metadata": {},
   "outputs": [],
   "source": [
    "import os"
   ]
  },
  {
   "cell_type": "code",
   "execution_count": 21,
   "metadata": {},
   "outputs": [],
   "source": [
    "from transformers import PegasusForConditionalGeneration, PegasusTokenizer"
   ]
  },
  {
   "cell_type": "code",
   "execution_count": 22,
   "metadata": {},
   "outputs": [],
   "source": [
    "from transformers import logging"
   ]
  },
  {
   "cell_type": "markdown",
   "metadata": {},
   "source": [
    "# Set logging"
   ]
  },
  {
   "cell_type": "code",
   "execution_count": 23,
   "metadata": {},
   "outputs": [],
   "source": [
    "# Silences \"Some weights were not initialized from the model checkpoint\" warning\n",
    "logging.set_verbosity_error()"
   ]
  },
  {
   "cell_type": "markdown",
   "metadata": {},
   "source": [
    "# Define main function"
   ]
  },
  {
   "cell_type": "code",
   "execution_count": 24,
   "metadata": {},
   "outputs": [],
   "source": [
    "def main(input_files):\n",
    "    # parser = argparse.ArgumentParser(description=\"Abstractive Text Summarization Script\")\n",
    "    # parser.add_argument(\"input_files\", nargs='+', help=\"Paths to the input text files\")\n",
    "\n",
    "    # args = parser.parse_args()\n",
    "    # input_files = args.input_files\n",
    "\n",
    "    for input_file_path in input_files:\n",
    "        # Check if the file exists\n",
    "        if not os.path.exists(input_file_path):\n",
    "            print(f\"Error: File '{input_file_path}' does not exist.\")\n",
    "            continue\n",
    "\n",
    "        # Read input text from the file\n",
    "        try:\n",
    "            with open(input_file_path, \"r\", encoding=\"utf-8\") as file:\n",
    "                input_text = file.read()\n",
    "\n",
    "            # Check if the file is empty\n",
    "            if not input_text.strip():\n",
    "                print(f\"Error: File '{input_file_path}' is empty.\")\n",
    "                continue\n",
    "        \n",
    "        # Check if the file is corrupt\n",
    "        except Exception as e:\n",
    "            print(f\"Error reading file '{input_file_path}': {e}\")\n",
    "            continue\n",
    "        \n",
    "        summary = abstractive_summarization(input_file_path)\n",
    "        \n",
    "        print(summary)\n"
   ]
  },
  {
   "cell_type": "markdown",
   "metadata": {},
   "source": [
    "# Define summarization function"
   ]
  },
  {
   "cell_type": "code",
   "execution_count": 25,
   "metadata": {},
   "outputs": [],
   "source": [
    "def abstractive_summarization(file):\n",
    "    # Load pre-trained model and tokenizer only once\n",
    "    model = PegasusForConditionalGeneration.from_pretrained(\"google/pegasus-xsum\")\n",
    "    tokenizer = PegasusTokenizer.from_pretrained(\"google/pegasus-xsum\", model_max_length=1024)\n",
    "\n",
    "    # Tokenize and generate summary\n",
    "    with open(file, \"r\") as f:\n",
    "        text = f.read()\n",
    "        \n",
    "        inputs = tokenizer(\"summarize: \" + text, return_tensors=\"pt\", padding=\"longest\", truncation=True)\n",
    "        summary_ids = model.generate(inputs[\"input_ids\"], max_length=150, length_penalty=2.0, num_beams=4, early_stopping=True)\n",
    "        summary = tokenizer.decode(summary_ids[0], skip_special_tokens=True)\n",
    "\n",
    "        return summary"
   ]
  },
  {
   "cell_type": "markdown",
   "metadata": {},
   "source": [
    "# Run main function"
   ]
  },
  {
   "cell_type": "code",
   "execution_count": 26,
   "metadata": {},
   "outputs": [
    {
     "name": "stdout",
     "output_type": "stream",
     "text": [
      "VDO uses various thread types to handle specific operations, such as read and write operations.\n"
     ]
    }
   ],
   "source": [
    "main(['/home/levi/rhel-8-docs/rhel-9/modules/performance/ref_vdo-thread-types.adoc'])"
   ]
  }
 ],
 "metadata": {
  "kernelspec": {
   "display_name": "Python 3",
   "language": "python",
   "name": "python3"
  },
  "language_info": {
   "codemirror_mode": {
    "name": "ipython",
    "version": 3
   },
   "file_extension": ".py",
   "mimetype": "text/x-python",
   "name": "python",
   "nbconvert_exporter": "python",
   "pygments_lexer": "ipython3",
   "version": "3.11.5"
  }
 },
 "nbformat": 4,
 "nbformat_minor": 2
}
